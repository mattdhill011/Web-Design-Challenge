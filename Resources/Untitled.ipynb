{
 "cells": [
  {
   "cell_type": "code",
   "execution_count": 2,
   "id": "fd582bad",
   "metadata": {},
   "outputs": [],
   "source": [
    "import csv"
   ]
  },
  {
   "cell_type": "code",
   "execution_count": 3,
   "id": "59dde362",
   "metadata": {},
   "outputs": [],
   "source": [
    "# I wasn't sure how to turn the table into an html file, so I made this python script to do it for me\n",
    "\n",
    "with open('cities.csv', newline='') as csvfile:\n",
    "    reader = csv.reader(csvfile, delimiter=',')\n",
    "    table = open(\"cities.html\", \"a\")\n",
    "    table.write(\"<table>\")\n",
    "    for row in reader:\n",
    "        table.write(f\"\"\"\n",
    "        <tr>\n",
    "            <td>{row[0]}</td>\n",
    "            <td>{row[1]}</td>\n",
    "            <td>{row[2]}</td>\n",
    "            <td>{row[3]}</td>\n",
    "            <td>{row[4]}</td>\n",
    "            <td>{row[5]}</td>\n",
    "            <td>{row[6]}</td>\n",
    "            <td>{row[7]}</td>\n",
    "            <td>{row[8]}</td>\n",
    "            <td>{row[9]}</td>\n",
    "        </tr>\n",
    "            \"\"\")\n",
    "    table.write(\"</table>\")\n",
    "    table.close()\n",
    "        \n",
    "        \n"
   ]
  }
 ],
 "metadata": {
  "kernelspec": {
   "display_name": "Python 3 (ipykernel)",
   "language": "python",
   "name": "python3"
  },
  "language_info": {
   "codemirror_mode": {
    "name": "ipython",
    "version": 3
   },
   "file_extension": ".py",
   "mimetype": "text/x-python",
   "name": "python",
   "nbconvert_exporter": "python",
   "pygments_lexer": "ipython3",
   "version": "3.10.4"
  }
 },
 "nbformat": 4,
 "nbformat_minor": 5
}
